{
  "nbformat": 4,
  "nbformat_minor": 0,
  "metadata": {
    "colab": {
      "provenance": [],
      "authorship_tag": "ABX9TyO0qs7O4JnJhnWV2JaK8ILe",
      "include_colab_link": true
    },
    "kernelspec": {
      "name": "python3",
      "display_name": "Python 3"
    },
    "language_info": {
      "name": "python"
    }
  },
  "cells": [
    {
      "cell_type": "markdown",
      "metadata": {
        "id": "view-in-github",
        "colab_type": "text"
      },
      "source": [
        "<a href=\"https://colab.research.google.com/github/ParfaitJemmy/ANALYSE-DES-DONNEES-MASSIVES-AVEC-HADOOP/blob/main/TP_DE_WEBSCRAPING.ipynb\" target=\"_parent\"><img src=\"https://colab.research.google.com/assets/colab-badge.svg\" alt=\"Open In Colab\"/></a>"
      ]
    },
    {
      "cell_type": "markdown",
      "source": [
        "Exercice 1\n",
        "\n",
        "Nous comptons récupérer les données afin de mieux maitriser le bibliothèque BeautifulSoup :\n",
        "les étapes suivantes pour le scraping.\n",
        "https://en.wikipedia.org/wiki/List_of_countries_by_GDP_(nominal)\n",
        "1.Téléchargement des contenus\n",
        "2.Extraction des données\n",
        "3.Stockage des données\n",
        "4.Analyse des données recueillies\n",
        "\n",
        "Le travail demandé est de :\n",
        "1.Charger les bibliothèques nécessaires\n",
        "2. Récupérer les données de la page\n",
        "3.Visualiser les données des liens (balise a)\n",
        "4.Charger les données du tableau contenant les données (balise <table> attribut (class=wikitable)\n",
        "5.Visualiser les données de la ligne 1\n",
        "6.Afficher les données d’une cellule spécifique par exemple (ligne 5 cellule 3, ligne 7 toutes les cellules)\n",
        "7.Donnez le code qui permet d’afficher après exécution ceci ( brazil-America)\n",
        "8.Parcourir toutes les données de la ligne 7\n",
        "9.Se baser sur tout le travail réaliser pour afficher le résultat demandées comme ci-dessous\n",
        "10.Afficher uniquement les données des pays africains<"
      ],
      "metadata": {
        "id": "15ddFnehCPwf"
      }
    },
    {
      "cell_type": "markdown",
      "source": [
        "# 1.Charger les bibliothèques nécessaires"
      ],
      "metadata": {
        "id": "aL8nOighDDG-"
      }
    },
    {
      "cell_type": "code",
      "source": [
        "!pip install requests beautifulsoup4 pandas\n",
        "\n",
        "import requests\n",
        "from bs4 import BeautifulSoup\n",
        "import pandas as pd\n"
      ],
      "metadata": {
        "colab": {
          "base_uri": "https://localhost:8080/"
        },
        "id": "BrKKa1UKDH3x",
        "outputId": "91534465-12a2-4dc2-e80d-1fc177016f54"
      },
      "execution_count": 94,
      "outputs": [
        {
          "output_type": "stream",
          "name": "stdout",
          "text": [
            "Requirement already satisfied: requests in /usr/local/lib/python3.11/dist-packages (2.32.3)\n",
            "Requirement already satisfied: beautifulsoup4 in /usr/local/lib/python3.11/dist-packages (4.13.3)\n",
            "Requirement already satisfied: pandas in /usr/local/lib/python3.11/dist-packages (2.2.2)\n",
            "Requirement already satisfied: charset-normalizer<4,>=2 in /usr/local/lib/python3.11/dist-packages (from requests) (3.4.1)\n",
            "Requirement already satisfied: idna<4,>=2.5 in /usr/local/lib/python3.11/dist-packages (from requests) (3.10)\n",
            "Requirement already satisfied: urllib3<3,>=1.21.1 in /usr/local/lib/python3.11/dist-packages (from requests) (2.3.0)\n",
            "Requirement already satisfied: certifi>=2017.4.17 in /usr/local/lib/python3.11/dist-packages (from requests) (2025.1.31)\n",
            "Requirement already satisfied: soupsieve>1.2 in /usr/local/lib/python3.11/dist-packages (from beautifulsoup4) (2.6)\n",
            "Requirement already satisfied: typing-extensions>=4.0.0 in /usr/local/lib/python3.11/dist-packages (from beautifulsoup4) (4.12.2)\n",
            "Requirement already satisfied: numpy>=1.23.2 in /usr/local/lib/python3.11/dist-packages (from pandas) (1.26.4)\n",
            "Requirement already satisfied: python-dateutil>=2.8.2 in /usr/local/lib/python3.11/dist-packages (from pandas) (2.8.2)\n",
            "Requirement already satisfied: pytz>=2020.1 in /usr/local/lib/python3.11/dist-packages (from pandas) (2025.1)\n",
            "Requirement already satisfied: tzdata>=2022.7 in /usr/local/lib/python3.11/dist-packages (from pandas) (2025.1)\n",
            "Requirement already satisfied: six>=1.5 in /usr/local/lib/python3.11/dist-packages (from python-dateutil>=2.8.2->pandas) (1.17.0)\n"
          ]
        }
      ]
    },
    {
      "cell_type": "markdown",
      "source": [
        "# 2. Récupérer les données de la page"
      ],
      "metadata": {
        "id": "mKWbdkr8DxJ8"
      }
    },
    {
      "cell_type": "code",
      "source": [
        "# Definition de la variable url\n",
        "url = \"https://en.wikipedia.org/w/index.php?title=List_of_countries_by_GDP_(nominal)\"\n",
        "#url = \"https://en.wikipedia.org/w/index.php?title=List_of_countries_by_GDP_(nominal)&oldid=1131763634\"\n",
        "# Envoi d'une requête GET à l'URL\n",
        "response = requests.get(url)"
      ],
      "metadata": {
        "id": "upb7c6JND1BB"
      },
      "execution_count": 100,
      "outputs": []
    },
    {
      "cell_type": "markdown",
      "source": [
        "# 3. Visualiser les données des liens (balise a)"
      ],
      "metadata": {
        "id": "VLJa3ASvENg-"
      }
    },
    {
      "cell_type": "code",
      "source": [
        "# Visualisation des données des liens (balise a)\n",
        "soup = BeautifulSoup(response.content, \"html.parser\")\n",
        "links = soup.find_all(\"a\")\n"
      ],
      "metadata": {
        "id": "CRp55iBHEo7J"
      },
      "execution_count": 119,
      "outputs": []
    },
    {
      "cell_type": "markdown",
      "source": [
        "# 4. Charger les données du tableau contenant les données (balise attribut (class=wikitable)"
      ],
      "metadata": {
        "id": "fCAcjyjFFlmm"
      }
    },
    {
      "cell_type": "code",
      "source": [
        "# Charger les données du tableau contenant les données (balise attribut (class=wikitable)\n",
        "table = soup.find(\"table\", {\"class\": \"wikitable\"})"
      ],
      "metadata": {
        "id": "oCKN0K3aFskZ"
      },
      "execution_count": 104,
      "outputs": []
    },
    {
      "cell_type": "markdown",
      "source": [
        "# 5. Visualiser les données de la ligne 1"
      ],
      "metadata": {
        "id": "t6jNt8npF__K"
      }
    },
    {
      "cell_type": "code",
      "source": [
        "# Visualiser les données de la ligne 1\n",
        "rows = table.find_all(\"tr\")[3].find_all(\"td\")\n",
        "for row in rows:\n",
        "    print(row.text.strip())\n"
      ],
      "metadata": {
        "colab": {
          "base_uri": "https://localhost:8080/"
        },
        "id": "EOEUiQsLGDEz",
        "outputId": "000d6d8f-bac2-4de4-ae5b-fd955a5f5061"
      },
      "execution_count": 109,
      "outputs": [
        {
          "output_type": "stream",
          "name": "stdout",
          "text": [
            "United States\n",
            "30,337,162\n",
            "2025\n",
            "27,360,935\n",
            "2023\n",
            "25,744,100\n",
            "2022\n"
          ]
        }
      ]
    },
    {
      "cell_type": "markdown",
      "source": [
        "# 6. Afficher les données d’une cellule spécifique par exemple (ligne 5 cellule 3, ligne 7 toutes les cellules)"
      ],
      "metadata": {
        "id": "ydGMKzqyN26l"
      }
    },
    {
      "cell_type": "code",
      "source": [
        "# Afficher les données d’une cellule spécifique par exemple (ligne 5 cellule 3, ligne 7 toutes les cellules)\n",
        "rows = table.find_all(\"tr\")[7].find_all(\"td\")[3].text.strip()\n",
        "print(rows)"
      ],
      "metadata": {
        "colab": {
          "base_uri": "https://localhost:8080/"
        },
        "id": "HBsVVUBTOGso",
        "outputId": "d19c2544-0e1f-402b-df64-55f94e4d6ec3"
      },
      "execution_count": 110,
      "outputs": [
        {
          "output_type": "stream",
          "name": "stdout",
          "text": [
            "3,549,919\n"
          ]
        }
      ]
    },
    {
      "cell_type": "code",
      "source": [
        "rows = table.find_all(\"tr\")[9].find_all(\"td\")\n",
        "for row in rows:\n",
        "    print(row.text.strip())"
      ],
      "metadata": {
        "colab": {
          "base_uri": "https://localhost:8080/"
        },
        "id": "HclS_Dt2QIBO",
        "outputId": "a57b1db8-2da1-414e-9622-0316dd4966b6"
      },
      "execution_count": 111,
      "outputs": [
        {
          "output_type": "stream",
          "name": "stdout",
          "text": [
            "France\n",
            "3,283,429\n",
            "2025\n",
            "3,030,904\n",
            "2023\n",
            "2,775,316\n",
            "2022\n"
          ]
        }
      ]
    },
    {
      "cell_type": "markdown",
      "source": [
        "# 7. Donnez le code qui permet d’afficher après exécution ceci ( brazil-America)"
      ],
      "metadata": {
        "id": "Us1JQ359QYFg"
      }
    },
    {
      "cell_type": "code",
      "source": [
        "# Donnez le code qui permet d’afficher après exécution ceci ( brazil-America)\n",
        "Brazil_America = table.find_all(\"tr\")[12].find_all(\"td\")[0].text.strip()\n",
        "print(Brazil_America)"
      ],
      "metadata": {
        "colab": {
          "base_uri": "https://localhost:8080/"
        },
        "id": "Y1Vtvh1qQavf",
        "outputId": "61cd1365-94b8-433f-92b2-e007a7c7dd2f"
      },
      "execution_count": 112,
      "outputs": [
        {
          "output_type": "stream",
          "name": "stdout",
          "text": [
            "Brazil\n"
          ]
        }
      ]
    },
    {
      "cell_type": "markdown",
      "source": [
        "# 8. Parcourir toutes les données de la ligne 7"
      ],
      "metadata": {
        "id": "ufgdD8scRYVn"
      }
    },
    {
      "cell_type": "code",
      "source": [
        "line_7 = table.find_all(\"tr\")[9].find_all(\"td\")\n",
        "for cell in line_7:\n",
        "    print(cell.text.strip())"
      ],
      "metadata": {
        "colab": {
          "base_uri": "https://localhost:8080/"
        },
        "id": "-D1HfDPVRcn0",
        "outputId": "c4dba26e-4e6f-45a8-df9d-40ee0943957c"
      },
      "execution_count": 113,
      "outputs": [
        {
          "output_type": "stream",
          "name": "stdout",
          "text": [
            "France\n",
            "3,283,429\n",
            "2025\n",
            "3,030,904\n",
            "2023\n",
            "2,775,316\n",
            "2022\n"
          ]
        }
      ]
    },
    {
      "cell_type": "markdown",
      "source": [
        "# 9. Se baser sur tout le travail réaliser pour afficher le résultat demandées comme ci-dessous"
      ],
      "metadata": {
        "id": "oUwT1dCiR9XC"
      }
    },
    {
      "cell_type": "code",
      "source": [
        "# On teste sans la variable 'continent'.\n",
        "for i in range(3,7):\n",
        "  country = table.find_all(\"tr\")[i].find_all(\"td\")[0].text.strip()\n",
        "  IMF_estimate = table.find_all(\"tr\")[i].find_all(\"td\")[1].text.strip()\n",
        "  IMF_year = table.find_all(\"tr\")[i].find_all(\"td\")[2].text.strip()\n",
        "  print(\"country:\", country,\"\\nIMF estimate:\",IMF_estimate,\"\\nIMF year:\",IMF_year, \"\\n\",\"-\"*10)"
      ],
      "metadata": {
        "colab": {
          "base_uri": "https://localhost:8080/"
        },
        "id": "WVAaclUWSAcv",
        "outputId": "df768ea6-76b5-4d0c-c91d-a3ab58521685"
      },
      "execution_count": 114,
      "outputs": [
        {
          "output_type": "stream",
          "name": "stdout",
          "text": [
            "country: United States \n",
            "IMF estimate: 30,337,162 \n",
            "IMF year: 2025 \n",
            " ----------\n",
            "country: China \n",
            "IMF estimate: 19,534,894 \n",
            "IMF year: [n 1]2025 \n",
            " ----------\n",
            "country: Germany \n",
            "IMF estimate: 4,921,563 \n",
            "IMF year: 2025 \n",
            " ----------\n",
            "country: Japan \n",
            "IMF estimate: 4,389,326 \n",
            "IMF year: 2025 \n",
            " ----------\n"
          ]
        }
      ]
    }
  ]
}